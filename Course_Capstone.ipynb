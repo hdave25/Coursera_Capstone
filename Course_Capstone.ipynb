{
  "nbformat": 4,
  "nbformat_minor": 0,
  "metadata": {
    "colab": {
      "name": "Course_Capstone.ipynb",
      "provenance": []
    },
    "kernelspec": {
      "name": "python3",
      "display_name": "Python 3"
    },
    "accelerator": "GPU"
  },
  "cells": [
    {
      "cell_type": "markdown",
      "metadata": {
        "id": "14Y7IA6L34hD",
        "colab_type": "text"
      },
      "source": [
        "# Coursera_Capstone Project"
      ]
    },
    {
      "cell_type": "markdown",
      "metadata": {
        "id": "HOfQrli04Uq_",
        "colab_type": "text"
      },
      "source": [
        "## This Jupyter Notebook will be mainly used for Capstone Project of IBM Data Science Course."
      ]
    },
    {
      "cell_type": "code",
      "metadata": {
        "id": "3vclnKcD3-3q",
        "colab_type": "code",
        "colab": {}
      },
      "source": [
        "import pandas as pd\n",
        "import numpy as np"
      ],
      "execution_count": 0,
      "outputs": []
    },
    {
      "cell_type": "code",
      "metadata": {
        "id": "GPDskoJx4CBF",
        "colab_type": "code",
        "colab": {
          "base_uri": "https://localhost:8080/",
          "height": 35
        },
        "outputId": "84958ad1-df57-437d-d0b1-f1c9401aee73"
      },
      "source": [
        "print('Hello Capstone Project Course!')"
      ],
      "execution_count": 3,
      "outputs": [
        {
          "output_type": "stream",
          "text": [
            "Hello Capstone Project Course!\n"
          ],
          "name": "stdout"
        }
      ]
    },
    {
      "cell_type": "code",
      "metadata": {
        "id": "Bkoa_AgB4GOA",
        "colab_type": "code",
        "colab": {}
      },
      "source": [
        ""
      ],
      "execution_count": 0,
      "outputs": []
    }
  ]
}